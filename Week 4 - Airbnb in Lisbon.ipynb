{
 "cells": [
  {
   "cell_type": "markdown",
   "id": "e450a2df-b617-4743-9b54-7d151205c7b9",
   "metadata": {},
   "source": [
    "# Neighborhoods with Airbnb in Lisbon, Portugal\n",
    "\n",
    "**Author:** Victor S.\n",
    "\n",
    "## Business Problem\n",
    "\n",
    "The COVID-19 pandemic struck hard the tourism platforms. Airbnb, a company that has consolidated its position in the market for the last few years suffered a loss of 85 percent in new bookings. Even though, in 2020 generated $3.4 billion in revenue and launched its IPO the last December. \n",
    "\n",
    "Air Bed and Breakfast (Airbnb) is an online platform that connects people who want to rent out their properties with people who are looking for a good place to stay. Since 2008, Airbnb has already reached over 100,000 cities, 220 countries worldwide, and 150 million users (last update 2018). \n",
    "\n",
    "As the pandemic ends, the tourism industry will recover its loss, so a notable question to a stakeholder is the best properties to invest in now. Let's consider a stakeholder who wants to invest in properties in Lisbon, Portugal, what is the best borough to invest in?\n",
    "\n",
    "## Data\n",
    "\n",
    "To achieve, this goal we gonna use free public data available in [Inside Airbnb](http://insideairbnb.com/get-the-data.html) and the Foursquare API to know the different venues in the neighborhoods.\n",
    "\n",
    "The Inside Airbnb site distributes public data that consists of all properties available in some regions on the platform and its details, like price per night, latitude, longitude, beds, bedrooms, neighborhood, etc.\n",
    "\n",
    "Foursquare is the most trusted, independent location data platform for understanding how people move through the real world and it's used for many popular services like Uber and Apple Maps. \n",
    "\n",
    "Knowing the latitude and longitude for every property, we can use the Foursquare API to obtain the venues inside a 100-meter range. The problem with Foursquare API is that we are limit to 950 requests per day and we have more than 9000 properties. \n",
    "\n",
    "We will cluster and segment the Airbnb data to analyze the possible outcomes and use Foursquare to support the final result."
   ]
  },
  {
   "cell_type": "code",
   "execution_count": null,
   "id": "d8e9d02d-9c17-456b-b66a-07dbe5af174d",
   "metadata": {},
   "outputs": [],
   "source": []
  }
 ],
 "metadata": {
  "kernelspec": {
   "display_name": "Python 3",
   "language": "python",
   "name": "python3"
  },
  "language_info": {
   "codemirror_mode": {
    "name": "ipython",
    "version": 3
   },
   "file_extension": ".py",
   "mimetype": "text/x-python",
   "name": "python",
   "nbconvert_exporter": "python",
   "pygments_lexer": "ipython3",
   "version": "3.8.8"
  }
 },
 "nbformat": 4,
 "nbformat_minor": 5
}
