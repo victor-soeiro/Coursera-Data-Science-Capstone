{
  "nbformat": 4,
  "nbformat_minor": 0,
  "metadata": {
    "colab": {
      "name": "Capstone_Notebook.ipynb",
      "provenance": [],
      "authorship_tag": "ABX9TyNRRDGj7teKK46fiQ9lriMx"
    },
    "kernelspec": {
      "name": "python3",
      "display_name": "Python 3"
    },
    "language_info": {
      "name": "python"
    }
  },
  "cells": [
    {
      "cell_type": "markdown",
      "metadata": {
        "id": "18bC61hZsIab"
      },
      "source": [
        "This notebook will be used for the Capstone Project of the Data Science Professional Certificate given by IBM on Coursera."
      ]
    },
    {
      "cell_type": "code",
      "metadata": {
        "colab": {
          "base_uri": "https://localhost:8080/"
        },
        "id": "47rFwLhfsDWa",
        "outputId": "d4014702-b74c-476f-c7ff-4f9c030fb885"
      },
      "source": [
        "import pandas as pd\n",
        "import numpy as np\n",
        "\n",
        "print('Hello Capstone Project Course!')"
      ],
      "execution_count": 1,
      "outputs": [
        {
          "output_type": "stream",
          "text": [
            "Hello Capstone Project Course!\n"
          ],
          "name": "stdout"
        }
      ]
    }
  ]
}
